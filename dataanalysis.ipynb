{
 "cells": [
  {
   "cell_type": "code",
   "execution_count": 3,
   "metadata": {},
   "outputs": [
    {
     "name": "stdout",
     "output_type": "stream",
     "text": [
      "Collecting numpy\n",
      "  Downloading numpy-1.22.3-cp38-cp38-win_amd64.whl (14.7 MB)\n",
      "     -------------------------------------- 14.7/14.7 MB 580.0 kB/s eta 0:00:00\n",
      "Installing collected packages: numpy\n",
      "Successfully installed numpy-1.22.3\n",
      "Note: you may need to restart the kernel to use updated packages.\n"
     ]
    },
    {
     "name": "stderr",
     "output_type": "stream",
     "text": [
      "  WARNING: The script f2py.exe is installed in 'C:\\Users\\lizat\\AppData\\Local\\Packages\\PythonSoftwareFoundation.Python.3.8_qbz5n2kfra8p0\\LocalCache\\local-packages\\Python38\\Scripts' which is not on PATH.\n",
      "  Consider adding this directory to PATH or, if you prefer to suppress this warning, use --no-warn-script-location.\n",
      "WARNING: You are using pip version 22.0.3; however, version 22.0.4 is available.\n",
      "You should consider upgrading via the 'C:\\Users\\lizat\\AppData\\Local\\Microsoft\\WindowsApps\\PythonSoftwareFoundation.Python.3.8_qbz5n2kfra8p0\\python.exe -m pip install --upgrade pip' command.\n"
     ]
    },
    {
     "name": "stdout",
     "output_type": "stream",
     "text": [
      "Collecting pandas\n",
      "  Downloading pandas-1.4.2-cp38-cp38-win_amd64.whl (10.6 MB)\n",
      "     -------------------------------------- 10.6/10.6 MB 580.9 kB/s eta 0:00:00\n",
      "Requirement already satisfied: pytz>=2020.1 in c:\\users\\lizat\\appdata\\local\\packages\\pythonsoftwarefoundation.python.3.8_qbz5n2kfra8p0\\localcache\\local-packages\\python38\\site-packages (from pandas) (2021.3)\n",
      "Requirement already satisfied: python-dateutil>=2.8.1 in c:\\users\\lizat\\appdata\\local\\packages\\pythonsoftwarefoundation.python.3.8_qbz5n2kfra8p0\\localcache\\local-packages\\python38\\site-packages (from pandas) (2.8.2)\n",
      "Requirement already satisfied: numpy>=1.18.5 in c:\\users\\lizat\\appdata\\local\\packages\\pythonsoftwarefoundation.python.3.8_qbz5n2kfra8p0\\localcache\\local-packages\\python38\\site-packages (from pandas) (1.22.3)\n",
      "Requirement already satisfied: six>=1.5 in c:\\users\\lizat\\appdata\\local\\packages\\pythonsoftwarefoundation.python.3.8_qbz5n2kfra8p0\\localcache\\local-packages\\python38\\site-packages (from python-dateutil>=2.8.1->pandas) (1.16.0)\n",
      "Installing collected packages: pandas\n",
      "Successfully installed pandas-1.4.2\n",
      "Note: you may need to restart the kernel to use updated packages.\n"
     ]
    },
    {
     "name": "stderr",
     "output_type": "stream",
     "text": [
      "WARNING: You are using pip version 22.0.3; however, version 22.0.4 is available.\n",
      "You should consider upgrading via the 'C:\\Users\\lizat\\AppData\\Local\\Microsoft\\WindowsApps\\PythonSoftwareFoundation.Python.3.8_qbz5n2kfra8p0\\python.exe -m pip install --upgrade pip' command.\n"
     ]
    },
    {
     "name": "stdout",
     "output_type": "stream",
     "text": [
      "Collecting seabornNote: you may need to restart the kernel to use updated packages.\n",
      "\n",
      "  Using cached seaborn-0.11.2-py3-none-any.whl (292 kB)\n",
      "Collecting matplotlib>=2.2\n",
      "  Downloading matplotlib-3.5.2-cp38-cp38-win_amd64.whl (7.2 MB)\n",
      "     ---------------------------------------- 7.2/7.2 MB 496.3 kB/s eta 0:00:00\n",
      "Collecting scipy>=1.0\n",
      "  Downloading scipy-1.8.0-cp38-cp38-win_amd64.whl (36.9 MB)\n",
      "     -------------------------------------- 36.9/36.9 MB 418.3 kB/s eta 0:00:00\n",
      "Requirement already satisfied: pandas>=0.23 in c:\\users\\lizat\\appdata\\local\\packages\\pythonsoftwarefoundation.python.3.8_qbz5n2kfra8p0\\localcache\\local-packages\\python38\\site-packages (from seaborn) (1.4.2)\n",
      "Requirement already satisfied: numpy>=1.15 in c:\\users\\lizat\\appdata\\local\\packages\\pythonsoftwarefoundation.python.3.8_qbz5n2kfra8p0\\localcache\\local-packages\\python38\\site-packages (from seaborn) (1.22.3)\n",
      "Requirement already satisfied: python-dateutil>=2.7 in c:\\users\\lizat\\appdata\\local\\packages\\pythonsoftwarefoundation.python.3.8_qbz5n2kfra8p0\\localcache\\local-packages\\python38\\site-packages (from matplotlib>=2.2->seaborn) (2.8.2)\n",
      "Collecting kiwisolver>=1.0.1\n",
      "  Downloading kiwisolver-1.4.2-cp38-cp38-win_amd64.whl (55 kB)\n",
      "     --------------------------------------- 55.4/55.4 KB 38.5 kB/s eta 0:00:00\n",
      "Collecting fonttools>=4.22.0\n",
      "  Downloading fonttools-4.33.3-py3-none-any.whl (930 kB)\n",
      "     ------------------------------------ 930.9/930.9 KB 191.3 kB/s eta 0:00:00\n",
      "Requirement already satisfied: pyparsing>=2.2.1 in c:\\users\\lizat\\appdata\\local\\packages\\pythonsoftwarefoundation.python.3.8_qbz5n2kfra8p0\\localcache\\local-packages\\python38\\site-packages (from matplotlib>=2.2->seaborn) (3.0.7)\n",
      "Requirement already satisfied: packaging>=20.0 in c:\\users\\lizat\\appdata\\local\\packages\\pythonsoftwarefoundation.python.3.8_qbz5n2kfra8p0\\localcache\\local-packages\\python38\\site-packages (from matplotlib>=2.2->seaborn) (21.3)\n",
      "Collecting cycler>=0.10\n",
      "  Using cached cycler-0.11.0-py3-none-any.whl (6.4 kB)\n",
      "Collecting pillow>=6.2.0\n",
      "  Downloading Pillow-9.1.0-cp38-cp38-win_amd64.whl (3.3 MB)\n",
      "     ---------------------------------------- 3.3/3.3 MB 174.2 kB/s eta 0:00:00\n",
      "Requirement already satisfied: pytz>=2020.1 in c:\\users\\lizat\\appdata\\local\\packages\\pythonsoftwarefoundation.python.3.8_qbz5n2kfra8p0\\localcache\\local-packages\\python38\\site-packages (from pandas>=0.23->seaborn) (2021.3)\n",
      "Requirement already satisfied: six>=1.5 in c:\\users\\lizat\\appdata\\local\\packages\\pythonsoftwarefoundation.python.3.8_qbz5n2kfra8p0\\localcache\\local-packages\\python38\\site-packages (from python-dateutil>=2.7->matplotlib>=2.2->seaborn) (1.16.0)\n",
      "Installing collected packages: scipy, pillow, kiwisolver, fonttools, cycler, matplotlib, seaborn\n",
      "Successfully installed cycler-0.11.0 fonttools-4.33.3 kiwisolver-1.4.2 matplotlib-3.5.2 pillow-9.1.0 scipy-1.8.0 seaborn-0.11.2\n"
     ]
    },
    {
     "name": "stderr",
     "output_type": "stream",
     "text": [
      "  WARNING: The scripts fonttools.exe, pyftmerge.exe, pyftsubset.exe and ttx.exe are installed in 'C:\\Users\\lizat\\AppData\\Local\\Packages\\PythonSoftwareFoundation.Python.3.8_qbz5n2kfra8p0\\LocalCache\\local-packages\\Python38\\Scripts' which is not on PATH.\n",
      "  Consider adding this directory to PATH or, if you prefer to suppress this warning, use --no-warn-script-location.\n",
      "WARNING: You are using pip version 22.0.3; however, version 22.0.4 is available.\n",
      "You should consider upgrading via the 'C:\\Users\\lizat\\AppData\\Local\\Microsoft\\WindowsApps\\PythonSoftwareFoundation.Python.3.8_qbz5n2kfra8p0\\python.exe -m pip install --upgrade pip' command.\n"
     ]
    },
    {
     "name": "stdout",
     "output_type": "stream",
     "text": [
      "Note: you may need to restart the kernel to use updated packages.\n"
     ]
    },
    {
     "name": "stderr",
     "output_type": "stream",
     "text": [
      "ERROR: Could not find a version that satisfies the requirement matplotlib.pyplot (from versions: none)\n",
      "ERROR: No matching distribution found for matplotlib.pyplot\n",
      "WARNING: You are using pip version 22.0.3; however, version 22.0.4 is available.\n",
      "You should consider upgrading via the 'C:\\Users\\lizat\\AppData\\Local\\Microsoft\\WindowsApps\\PythonSoftwareFoundation.Python.3.8_qbz5n2kfra8p0\\python.exe -m pip install --upgrade pip' command.\n"
     ]
    },
    {
     "name": "stdout",
     "output_type": "stream",
     "text": [
      "Collecting pyodbcNote: you may need to restart the kernel to use updated packages.\n",
      "\n",
      "  Downloading pyodbc-4.0.32-cp38-cp38-win_amd64.whl (73 kB)\n",
      "     -------------------------------------- 73.2/73.2 KB 182.9 kB/s eta 0:00:00\n",
      "Installing collected packages: pyodbc\n",
      "Successfully installed pyodbc-4.0.32\n"
     ]
    },
    {
     "name": "stderr",
     "output_type": "stream",
     "text": [
      "WARNING: You are using pip version 22.0.3; however, version 22.0.4 is available.\n",
      "You should consider upgrading via the 'C:\\Users\\lizat\\AppData\\Local\\Microsoft\\WindowsApps\\PythonSoftwareFoundation.Python.3.8_qbz5n2kfra8p0\\python.exe -m pip install --upgrade pip' command.\n"
     ]
    }
   ],
   "source": [
    "#%pip install pyodbc\n",
    "%pip install numpy\n",
    "%pip install pandas\n",
    "%pip install seaborn\n",
    "%pip install matplotlib.pyplot\n",
    "%pip install pyodbc"
   ]
  },
  {
   "cell_type": "code",
   "execution_count": 4,
   "metadata": {},
   "outputs": [],
   "source": [
    "import numpy as np\n",
    "import pandas as pd\n",
    "import seaborn as sns\n",
    "import matplotlib.pyplot as plt\n",
    "import pyodbc"
   ]
  },
  {
   "cell_type": "code",
   "execution_count": 5,
   "metadata": {},
   "outputs": [],
   "source": [
    "conn = pyodbc.connect('Driver={SQL Server Native Client 11.0};'\n",
    "                      'Server=LAPTOP-MNKFJKKH;'\n",
    "                      'Database=AdventureWorksDW2016;'\n",
    "                      'Trusted_Connection=yes;')"
   ]
  },
  {
   "cell_type": "code",
   "execution_count": 6,
   "metadata": {},
   "outputs": [],
   "source": [
    "sql = \"\"\"select concat(a.FirstName,' ',a.LastName) as CustomerName, \n",
    "\t\tb.OrderDate, \n",
    "\t\tyear(b.OrderDate) as year,\n",
    "\t\tmonth(b.OrderDate) as month,\n",
    "\t\tb.SalesAmount, \n",
    "\t\tc.CurrencyAlternateKey,\n",
    "\t\td.EnglishProductName as Product,\n",
    "\t\te.EnglishProductSubcategoryName as SubCategory,\n",
    "\t\tf.EnglishProductCategoryName as Category\n",
    "from [dbo].[DimCustomer] a, \n",
    "\t\t[dbo].[FactInternetSales] b, \n",
    "\t\t[dbo].[DimCurrency] c,\n",
    "\t\t[dbo].[DimProduct] d,\n",
    "\t\t[dbo].[DimProductSubcategory] e,\n",
    "\t\t[dbo].[DimProductCategory] f\n",
    "where a.CustomerKey = b.CustomerKey\n",
    "and b.CurrencyKey = c.CurrencyKey\n",
    "and b.ProductKey = d.ProductKey\n",
    "and d.ProductSubcategoryKey = e.ProductSubcategoryKey\n",
    "and e.ProductCategoryKey = f.ProductCategoryKey \n",
    "and b.OrderDate <= '2013-12-31'\"\"\""
   ]
  },
  {
   "cell_type": "code",
   "execution_count": 7,
   "metadata": {},
   "outputs": [
    {
     "name": "stderr",
     "output_type": "stream",
     "text": [
      "C:\\Users\\lizat\\AppData\\Local\\Packages\\PythonSoftwareFoundation.Python.3.8_qbz5n2kfra8p0\\LocalCache\\local-packages\\Python38\\site-packages\\pandas\\io\\sql.py:761: UserWarning: pandas only support SQLAlchemy connectable(engine/connection) ordatabase string URI or sqlite3 DBAPI2 connectionother DBAPI2 objects are not tested, please consider using SQLAlchemy\n",
      "  warnings.warn(\n"
     ]
    },
    {
     "data": {
      "text/html": [
       "<div>\n",
       "<style scoped>\n",
       "    .dataframe tbody tr th:only-of-type {\n",
       "        vertical-align: middle;\n",
       "    }\n",
       "\n",
       "    .dataframe tbody tr th {\n",
       "        vertical-align: top;\n",
       "    }\n",
       "\n",
       "    .dataframe thead th {\n",
       "        text-align: right;\n",
       "    }\n",
       "</style>\n",
       "<table border=\"1\" class=\"dataframe\">\n",
       "  <thead>\n",
       "    <tr style=\"text-align: right;\">\n",
       "      <th></th>\n",
       "      <th>CustomerName</th>\n",
       "      <th>OrderDate</th>\n",
       "      <th>year</th>\n",
       "      <th>month</th>\n",
       "      <th>SalesAmount</th>\n",
       "      <th>CurrencyAlternateKey</th>\n",
       "      <th>Product</th>\n",
       "      <th>SubCategory</th>\n",
       "      <th>Category</th>\n",
       "    </tr>\n",
       "  </thead>\n",
       "  <tbody>\n",
       "    <tr>\n",
       "      <th>0</th>\n",
       "      <td>Ruben Prasad</td>\n",
       "      <td>2010-12-29</td>\n",
       "      <td>2010</td>\n",
       "      <td>12</td>\n",
       "      <td>699.0982</td>\n",
       "      <td>USD</td>\n",
       "      <td>Road-650 Black, 62</td>\n",
       "      <td>Road Bikes</td>\n",
       "      <td>Bikes</td>\n",
       "    </tr>\n",
       "    <tr>\n",
       "      <th>1</th>\n",
       "      <td>Christy Zhu</td>\n",
       "      <td>2010-12-29</td>\n",
       "      <td>2010</td>\n",
       "      <td>12</td>\n",
       "      <td>3399.9900</td>\n",
       "      <td>AUD</td>\n",
       "      <td>Mountain-100 Silver, 44</td>\n",
       "      <td>Mountain Bikes</td>\n",
       "      <td>Bikes</td>\n",
       "    </tr>\n",
       "    <tr>\n",
       "      <th>2</th>\n",
       "      <td>Colin Anand</td>\n",
       "      <td>2010-12-30</td>\n",
       "      <td>2010</td>\n",
       "      <td>12</td>\n",
       "      <td>3578.2700</td>\n",
       "      <td>USD</td>\n",
       "      <td>Road-150 Red, 44</td>\n",
       "      <td>Road Bikes</td>\n",
       "      <td>Bikes</td>\n",
       "    </tr>\n",
       "    <tr>\n",
       "      <th>3</th>\n",
       "      <td>Abigail Henderson</td>\n",
       "      <td>2011-01-01</td>\n",
       "      <td>2011</td>\n",
       "      <td>1</td>\n",
       "      <td>3578.2700</td>\n",
       "      <td>DEM</td>\n",
       "      <td>Road-150 Red, 44</td>\n",
       "      <td>Road Bikes</td>\n",
       "      <td>Bikes</td>\n",
       "    </tr>\n",
       "    <tr>\n",
       "      <th>4</th>\n",
       "      <td>Alexandra Watson</td>\n",
       "      <td>2011-01-02</td>\n",
       "      <td>2011</td>\n",
       "      <td>1</td>\n",
       "      <td>699.0982</td>\n",
       "      <td>AUD</td>\n",
       "      <td>Road-650 Black, 62</td>\n",
       "      <td>Road Bikes</td>\n",
       "      <td>Bikes</td>\n",
       "    </tr>\n",
       "  </tbody>\n",
       "</table>\n",
       "</div>"
      ],
      "text/plain": [
       "        CustomerName  OrderDate  year  month  SalesAmount  \\\n",
       "0       Ruben Prasad 2010-12-29  2010     12     699.0982   \n",
       "1        Christy Zhu 2010-12-29  2010     12    3399.9900   \n",
       "2        Colin Anand 2010-12-30  2010     12    3578.2700   \n",
       "3  Abigail Henderson 2011-01-01  2011      1    3578.2700   \n",
       "4   Alexandra Watson 2011-01-02  2011      1     699.0982   \n",
       "\n",
       "  CurrencyAlternateKey                  Product     SubCategory Category  \n",
       "0                  USD       Road-650 Black, 62      Road Bikes    Bikes  \n",
       "1                  AUD  Mountain-100 Silver, 44  Mountain Bikes    Bikes  \n",
       "2                  USD         Road-150 Red, 44      Road Bikes    Bikes  \n",
       "3                  DEM         Road-150 Red, 44      Road Bikes    Bikes  \n",
       "4                  AUD       Road-650 Black, 62      Road Bikes    Bikes  "
      ]
     },
     "execution_count": 7,
     "metadata": {},
     "output_type": "execute_result"
    }
   ],
   "source": [
    "df = pd.read_sql(sql, conn)\n",
    "df.head()"
   ]
  },
  {
   "cell_type": "code",
   "execution_count": 8,
   "metadata": {},
   "outputs": [
    {
     "data": {
      "text/plain": [
       "29312982.5"
      ]
     },
     "execution_count": 8,
     "metadata": {},
     "output_type": "execute_result"
    }
   ],
   "source": [
    "total_sales = round(df['SalesAmount'].sum(),2)\n",
    "total_sales"
   ]
  },
  {
   "cell_type": "code",
   "execution_count": 9,
   "metadata": {},
   "outputs": [
    {
     "data": {
      "text/html": [
       "<div>\n",
       "<style scoped>\n",
       "    .dataframe tbody tr th:only-of-type {\n",
       "        vertical-align: middle;\n",
       "    }\n",
       "\n",
       "    .dataframe tbody tr th {\n",
       "        vertical-align: top;\n",
       "    }\n",
       "\n",
       "    .dataframe thead th {\n",
       "        text-align: right;\n",
       "    }\n",
       "</style>\n",
       "<table border=\"1\" class=\"dataframe\">\n",
       "  <thead>\n",
       "    <tr style=\"text-align: right;\">\n",
       "      <th></th>\n",
       "      <th>CustomerName</th>\n",
       "      <th>OrderDate</th>\n",
       "      <th>year</th>\n",
       "      <th>month</th>\n",
       "      <th>SalesAmount</th>\n",
       "      <th>CurrencyAlternateKey</th>\n",
       "      <th>Product</th>\n",
       "      <th>SubCategory</th>\n",
       "      <th>Category</th>\n",
       "    </tr>\n",
       "  </thead>\n",
       "  <tbody>\n",
       "    <tr>\n",
       "      <th>1490</th>\n",
       "      <td>Cindy Patel</td>\n",
       "      <td>2013-01-01</td>\n",
       "      <td>2013</td>\n",
       "      <td>1</td>\n",
       "      <td>2294.99</td>\n",
       "      <td>USD</td>\n",
       "      <td>Mountain-200 Black, 42</td>\n",
       "      <td>Mountain Bikes</td>\n",
       "      <td>Bikes</td>\n",
       "    </tr>\n",
       "    <tr>\n",
       "      <th>1491</th>\n",
       "      <td>Cindy Patel</td>\n",
       "      <td>2013-01-01</td>\n",
       "      <td>2013</td>\n",
       "      <td>1</td>\n",
       "      <td>4.99</td>\n",
       "      <td>USD</td>\n",
       "      <td>Water Bottle - 30 oz.</td>\n",
       "      <td>Bottles and Cages</td>\n",
       "      <td>Accessories</td>\n",
       "    </tr>\n",
       "    <tr>\n",
       "      <th>1492</th>\n",
       "      <td>Cindy Patel</td>\n",
       "      <td>2013-01-01</td>\n",
       "      <td>2013</td>\n",
       "      <td>1</td>\n",
       "      <td>9.99</td>\n",
       "      <td>USD</td>\n",
       "      <td>Mountain Bottle Cage</td>\n",
       "      <td>Bottles and Cages</td>\n",
       "      <td>Accessories</td>\n",
       "    </tr>\n",
       "    <tr>\n",
       "      <th>1493</th>\n",
       "      <td>Kaylee Gray</td>\n",
       "      <td>2013-01-01</td>\n",
       "      <td>2013</td>\n",
       "      <td>1</td>\n",
       "      <td>564.99</td>\n",
       "      <td>USD</td>\n",
       "      <td>Mountain-500 Silver, 42</td>\n",
       "      <td>Mountain Bikes</td>\n",
       "      <td>Bikes</td>\n",
       "    </tr>\n",
       "    <tr>\n",
       "      <th>1494</th>\n",
       "      <td>Kaylee Gray</td>\n",
       "      <td>2013-01-01</td>\n",
       "      <td>2013</td>\n",
       "      <td>1</td>\n",
       "      <td>24.99</td>\n",
       "      <td>USD</td>\n",
       "      <td>LL Mountain Tire</td>\n",
       "      <td>Tires and Tubes</td>\n",
       "      <td>Accessories</td>\n",
       "    </tr>\n",
       "  </tbody>\n",
       "</table>\n",
       "</div>"
      ],
      "text/plain": [
       "     CustomerName  OrderDate  year  month  SalesAmount CurrencyAlternateKey  \\\n",
       "1490  Cindy Patel 2013-01-01  2013      1      2294.99                  USD   \n",
       "1491  Cindy Patel 2013-01-01  2013      1         4.99                  USD   \n",
       "1492  Cindy Patel 2013-01-01  2013      1         9.99                  USD   \n",
       "1493  Kaylee Gray 2013-01-01  2013      1       564.99                  USD   \n",
       "1494  Kaylee Gray 2013-01-01  2013      1        24.99                  USD   \n",
       "\n",
       "                      Product        SubCategory     Category  \n",
       "1490   Mountain-200 Black, 42     Mountain Bikes        Bikes  \n",
       "1491    Water Bottle - 30 oz.  Bottles and Cages  Accessories  \n",
       "1492     Mountain Bottle Cage  Bottles and Cages  Accessories  \n",
       "1493  Mountain-500 Silver, 42     Mountain Bikes        Bikes  \n",
       "1494         LL Mountain Tire    Tires and Tubes  Accessories  "
      ]
     },
     "execution_count": 9,
     "metadata": {},
     "output_type": "execute_result"
    }
   ],
   "source": [
    "ytd_df = df[df['year'] == df['year'].max()]\n",
    "ytd_df.head()"
   ]
  },
  {
   "cell_type": "code",
   "execution_count": 10,
   "metadata": {},
   "outputs": [
    {
     "data": {
      "text/html": [
       "<div>\n",
       "<style scoped>\n",
       "    .dataframe tbody tr th:only-of-type {\n",
       "        vertical-align: middle;\n",
       "    }\n",
       "\n",
       "    .dataframe tbody tr th {\n",
       "        vertical-align: top;\n",
       "    }\n",
       "\n",
       "    .dataframe thead th {\n",
       "        text-align: right;\n",
       "    }\n",
       "</style>\n",
       "<table border=\"1\" class=\"dataframe\">\n",
       "  <thead>\n",
       "    <tr style=\"text-align: right;\">\n",
       "      <th></th>\n",
       "      <th>ytd_sales</th>\n",
       "    </tr>\n",
       "  </thead>\n",
       "  <tbody>\n",
       "    <tr>\n",
       "      <th>0</th>\n",
       "      <td>16351550.34</td>\n",
       "    </tr>\n",
       "  </tbody>\n",
       "</table>\n",
       "</div>"
      ],
      "text/plain": [
       "     ytd_sales\n",
       "0  16351550.34"
      ]
     },
     "execution_count": 10,
     "metadata": {},
     "output_type": "execute_result"
    }
   ],
   "source": [
    "ytd_s = round(ytd_df['SalesAmount'].sum(),2)\n",
    "ys = [ytd_s]\n",
    "ytd_sales = pd.DataFrame(ys, columns=['ytd_sales']) \n",
    "ytd_sales"
   ]
  },
  {
   "cell_type": "code",
   "execution_count": 11,
   "metadata": {},
   "outputs": [
    {
     "data": {
      "text/html": [
       "<div>\n",
       "<style scoped>\n",
       "    .dataframe tbody tr th:only-of-type {\n",
       "        vertical-align: middle;\n",
       "    }\n",
       "\n",
       "    .dataframe tbody tr th {\n",
       "        vertical-align: top;\n",
       "    }\n",
       "\n",
       "    .dataframe thead th {\n",
       "        text-align: right;\n",
       "    }\n",
       "</style>\n",
       "<table border=\"1\" class=\"dataframe\">\n",
       "  <thead>\n",
       "    <tr style=\"text-align: right;\">\n",
       "      <th></th>\n",
       "      <th>txn_merch</th>\n",
       "    </tr>\n",
       "  </thead>\n",
       "  <tbody>\n",
       "    <tr>\n",
       "      <th>0</th>\n",
       "      <td>17354</td>\n",
       "    </tr>\n",
       "  </tbody>\n",
       "</table>\n",
       "</div>"
      ],
      "text/plain": [
       "   txn_merch\n",
       "0      17354"
      ]
     },
     "execution_count": 11,
     "metadata": {},
     "output_type": "execute_result"
    }
   ],
   "source": [
    "txn_m = len(pd.unique(ytd_df['CustomerName']))\n",
    "tm = [txn_m]\n",
    "txn_merch = pd.DataFrame(tm, columns=['txn_merch']) \n",
    "txn_merch"
   ]
  },
  {
   "cell_type": "code",
   "execution_count": 12,
   "metadata": {},
   "outputs": [
    {
     "data": {
      "text/html": [
       "<div>\n",
       "<style scoped>\n",
       "    .dataframe tbody tr th:only-of-type {\n",
       "        vertical-align: middle;\n",
       "    }\n",
       "\n",
       "    .dataframe tbody tr th {\n",
       "        vertical-align: top;\n",
       "    }\n",
       "\n",
       "    .dataframe thead th {\n",
       "        text-align: right;\n",
       "    }\n",
       "</style>\n",
       "<table border=\"1\" class=\"dataframe\">\n",
       "  <thead>\n",
       "    <tr style=\"text-align: right;\">\n",
       "      <th></th>\n",
       "      <th>SalesAmount</th>\n",
       "    </tr>\n",
       "    <tr>\n",
       "      <th>Category</th>\n",
       "      <th></th>\n",
       "    </tr>\n",
       "  </thead>\n",
       "  <tbody>\n",
       "    <tr>\n",
       "      <th>Accessories</th>\n",
       "      <td>668241.53</td>\n",
       "    </tr>\n",
       "    <tr>\n",
       "      <th>Bikes</th>\n",
       "      <td>15359502.36</td>\n",
       "    </tr>\n",
       "    <tr>\n",
       "      <th>Clothing</th>\n",
       "      <td>323806.45</td>\n",
       "    </tr>\n",
       "  </tbody>\n",
       "</table>\n",
       "</div>"
      ],
      "text/plain": [
       "             SalesAmount\n",
       "Category                \n",
       "Accessories    668241.53\n",
       "Bikes        15359502.36\n",
       "Clothing       323806.45"
      ]
     },
     "execution_count": 12,
     "metadata": {},
     "output_type": "execute_result"
    }
   ],
   "source": [
    "ytd_category = ytd_df.groupby(\"Category\").sum()[[\"SalesAmount\"]]\n",
    "ytd_category"
   ]
  },
  {
   "cell_type": "code",
   "execution_count": 13,
   "metadata": {},
   "outputs": [
    {
     "data": {
      "text/html": [
       "<div>\n",
       "<style scoped>\n",
       "    .dataframe tbody tr th:only-of-type {\n",
       "        vertical-align: middle;\n",
       "    }\n",
       "\n",
       "    .dataframe tbody tr th {\n",
       "        vertical-align: top;\n",
       "    }\n",
       "\n",
       "    .dataframe thead th {\n",
       "        text-align: right;\n",
       "    }\n",
       "</style>\n",
       "<table border=\"1\" class=\"dataframe\">\n",
       "  <thead>\n",
       "    <tr style=\"text-align: right;\">\n",
       "      <th></th>\n",
       "      <th>SalesAmount</th>\n",
       "    </tr>\n",
       "    <tr>\n",
       "      <th>CurrencyAlternateKey</th>\n",
       "      <th></th>\n",
       "    </tr>\n",
       "  </thead>\n",
       "  <tbody>\n",
       "    <tr>\n",
       "      <th>AUD</th>\n",
       "      <td>4338938.60</td>\n",
       "    </tr>\n",
       "    <tr>\n",
       "      <th>CAD</th>\n",
       "      <td>1085563.26</td>\n",
       "    </tr>\n",
       "    <tr>\n",
       "      <th>GBP</th>\n",
       "      <td>2124358.41</td>\n",
       "    </tr>\n",
       "    <tr>\n",
       "      <th>USD</th>\n",
       "      <td>8802690.07</td>\n",
       "    </tr>\n",
       "  </tbody>\n",
       "</table>\n",
       "</div>"
      ],
      "text/plain": [
       "                      SalesAmount\n",
       "CurrencyAlternateKey             \n",
       "AUD                    4338938.60\n",
       "CAD                    1085563.26\n",
       "GBP                    2124358.41\n",
       "USD                    8802690.07"
      ]
     },
     "execution_count": 13,
     "metadata": {},
     "output_type": "execute_result"
    }
   ],
   "source": [
    "ytd_curr = ytd_df.groupby(\"CurrencyAlternateKey\").sum()[[\"SalesAmount\"]]\n",
    "ytd_curr"
   ]
  },
  {
   "cell_type": "code",
   "execution_count": 14,
   "metadata": {},
   "outputs": [
    {
     "data": {
      "text/html": [
       "<div>\n",
       "<style scoped>\n",
       "    .dataframe tbody tr th:only-of-type {\n",
       "        vertical-align: middle;\n",
       "    }\n",
       "\n",
       "    .dataframe tbody tr th {\n",
       "        vertical-align: top;\n",
       "    }\n",
       "\n",
       "    .dataframe thead th {\n",
       "        text-align: right;\n",
       "    }\n",
       "</style>\n",
       "<table border=\"1\" class=\"dataframe\">\n",
       "  <thead>\n",
       "    <tr style=\"text-align: right;\">\n",
       "      <th></th>\n",
       "      <th>SalesAmount</th>\n",
       "    </tr>\n",
       "    <tr>\n",
       "      <th>year</th>\n",
       "      <th></th>\n",
       "    </tr>\n",
       "  </thead>\n",
       "  <tbody>\n",
       "    <tr>\n",
       "      <th>2010</th>\n",
       "      <td>4.342104e+04</td>\n",
       "    </tr>\n",
       "    <tr>\n",
       "      <th>2011</th>\n",
       "      <td>7.075526e+06</td>\n",
       "    </tr>\n",
       "    <tr>\n",
       "      <th>2012</th>\n",
       "      <td>5.842485e+06</td>\n",
       "    </tr>\n",
       "    <tr>\n",
       "      <th>2013</th>\n",
       "      <td>1.635155e+07</td>\n",
       "    </tr>\n",
       "  </tbody>\n",
       "</table>\n",
       "</div>"
      ],
      "text/plain": [
       "       SalesAmount\n",
       "year              \n",
       "2010  4.342104e+04\n",
       "2011  7.075526e+06\n",
       "2012  5.842485e+06\n",
       "2013  1.635155e+07"
      ]
     },
     "execution_count": 14,
     "metadata": {},
     "output_type": "execute_result"
    }
   ],
   "source": [
    "yr_trend = df.groupby(\"year\").sum()[[\"SalesAmount\"]]\n",
    "yr_trend"
   ]
  },
  {
   "cell_type": "code",
   "execution_count": 15,
   "metadata": {},
   "outputs": [
    {
     "data": {
      "text/html": [
       "<div>\n",
       "<style scoped>\n",
       "    .dataframe tbody tr th:only-of-type {\n",
       "        vertical-align: middle;\n",
       "    }\n",
       "\n",
       "    .dataframe tbody tr th {\n",
       "        vertical-align: top;\n",
       "    }\n",
       "\n",
       "    .dataframe thead th {\n",
       "        text-align: right;\n",
       "    }\n",
       "</style>\n",
       "<table border=\"1\" class=\"dataframe\">\n",
       "  <thead>\n",
       "    <tr style=\"text-align: right;\">\n",
       "      <th></th>\n",
       "      <th>SalesAmount</th>\n",
       "    </tr>\n",
       "    <tr>\n",
       "      <th>month</th>\n",
       "      <th></th>\n",
       "    </tr>\n",
       "  </thead>\n",
       "  <tbody>\n",
       "    <tr>\n",
       "      <th>1</th>\n",
       "      <td>857689.91</td>\n",
       "    </tr>\n",
       "    <tr>\n",
       "      <th>2</th>\n",
       "      <td>771348.74</td>\n",
       "    </tr>\n",
       "    <tr>\n",
       "      <th>3</th>\n",
       "      <td>1049907.39</td>\n",
       "    </tr>\n",
       "    <tr>\n",
       "      <th>4</th>\n",
       "      <td>1046022.77</td>\n",
       "    </tr>\n",
       "    <tr>\n",
       "      <th>5</th>\n",
       "      <td>1284592.93</td>\n",
       "    </tr>\n",
       "    <tr>\n",
       "      <th>6</th>\n",
       "      <td>1643177.78</td>\n",
       "    </tr>\n",
       "    <tr>\n",
       "      <th>7</th>\n",
       "      <td>1371675.81</td>\n",
       "    </tr>\n",
       "    <tr>\n",
       "      <th>8</th>\n",
       "      <td>1551065.56</td>\n",
       "    </tr>\n",
       "    <tr>\n",
       "      <th>9</th>\n",
       "      <td>1447495.69</td>\n",
       "    </tr>\n",
       "    <tr>\n",
       "      <th>10</th>\n",
       "      <td>1673293.41</td>\n",
       "    </tr>\n",
       "    <tr>\n",
       "      <th>11</th>\n",
       "      <td>1780920.06</td>\n",
       "    </tr>\n",
       "    <tr>\n",
       "      <th>12</th>\n",
       "      <td>1874360.29</td>\n",
       "    </tr>\n",
       "  </tbody>\n",
       "</table>\n",
       "</div>"
      ],
      "text/plain": [
       "       SalesAmount\n",
       "month             \n",
       "1        857689.91\n",
       "2        771348.74\n",
       "3       1049907.39\n",
       "4       1046022.77\n",
       "5       1284592.93\n",
       "6       1643177.78\n",
       "7       1371675.81\n",
       "8       1551065.56\n",
       "9       1447495.69\n",
       "10      1673293.41\n",
       "11      1780920.06\n",
       "12      1874360.29"
      ]
     },
     "execution_count": 15,
     "metadata": {},
     "output_type": "execute_result"
    }
   ],
   "source": [
    "mth_trend = ytd_df.groupby(\"month\").sum()[[\"SalesAmount\"]]\n",
    "mth_trend"
   ]
  },
  {
   "cell_type": "code",
   "execution_count": 16,
   "metadata": {},
   "outputs": [],
   "source": [
    "%matplotlib inline"
   ]
  },
  {
   "cell_type": "code",
   "execution_count": 17,
   "metadata": {},
   "outputs": [
    {
     "ename": "ValueError",
     "evalue": "not enough values to unpack (expected 2, got 1)",
     "output_type": "error",
     "traceback": [
      "\u001b[1;31m---------------------------------------------------------------------------\u001b[0m",
      "\u001b[1;31mValueError\u001b[0m                                Traceback (most recent call last)",
      "\u001b[1;32mc:\\Users\\lizat\\Documents\\Data Learning\\Projects\\Python Data Analysis and Email Alerts\\dataanalysis.ipynb Cell 15'\u001b[0m in \u001b[0;36m<cell line: 16>\u001b[1;34m()\u001b[0m\n\u001b[0;32m     <a href='vscode-notebook-cell:/c%3A/Users/lizat/Documents/Data%20Learning/Projects/Python%20Data%20Analysis%20and%20Email%20Alerts/dataanalysis.ipynb#ch0000014?line=14'>15</a>\u001b[0m ax0\u001b[39m.\u001b[39mset_title(\u001b[39m'\u001b[39m\u001b[39mYTD Sales\u001b[39m\u001b[39m'\u001b[39m)\n\u001b[0;32m     <a href='vscode-notebook-cell:/c%3A/Users/lizat/Documents/Data%20Learning/Projects/Python%20Data%20Analysis%20and%20Email%20Alerts/dataanalysis.ipynb#ch0000014?line=15'>16</a>\u001b[0m \u001b[39mfor\u001b[39;00m k, v \u001b[39min\u001b[39;00m ytd_sales\u001b[39m.\u001b[39miterrows():\n\u001b[1;32m---> <a href='vscode-notebook-cell:/c%3A/Users/lizat/Documents/Data%20Learning/Projects/Python%20Data%20Analysis%20and%20Email%20Alerts/dataanalysis.ipynb#ch0000014?line=16'>17</a>\u001b[0m    ax0\u001b[39m.\u001b[39;49mannotate(k, v)\n\u001b[0;32m     <a href='vscode-notebook-cell:/c%3A/Users/lizat/Documents/Data%20Learning/Projects/Python%20Data%20Analysis%20and%20Email%20Alerts/dataanalysis.ipynb#ch0000014?line=18'>19</a>\u001b[0m \u001b[39m# Subplot 2: Barh plot\u001b[39;00m\n\u001b[0;32m     <a href='vscode-notebook-cell:/c%3A/Users/lizat/Documents/Data%20Learning/Projects/Python%20Data%20Analysis%20and%20Email%20Alerts/dataanalysis.ipynb#ch0000014?line=19'>20</a>\u001b[0m txn_merch\u001b[39m.\u001b[39mplot(kind\u001b[39m=\u001b[39m\u001b[39m'\u001b[39m\u001b[39mbarh\u001b[39m\u001b[39m'\u001b[39m, color\u001b[39m=\u001b[39m\u001b[39m'\u001b[39m\u001b[39mwhite\u001b[39m\u001b[39m'\u001b[39m, figsize\u001b[39m=\u001b[39m(\u001b[39m10\u001b[39m, \u001b[39m6\u001b[39m), ax\u001b[39m=\u001b[39max1) \u001b[39m# add to subplot 2\u001b[39;00m\n",
      "File \u001b[1;32m~\\AppData\\Local\\Packages\\PythonSoftwareFoundation.Python.3.8_qbz5n2kfra8p0\\LocalCache\\local-packages\\Python38\\site-packages\\matplotlib\\axes\\_axes.py:666\u001b[0m, in \u001b[0;36mAxes.annotate\u001b[1;34m(self, text, xy, *args, **kwargs)\u001b[0m\n\u001b[0;32m    <a href='file:///c%3A/Users/lizat/AppData/Local/Packages/PythonSoftwareFoundation.Python.3.8_qbz5n2kfra8p0/LocalCache/local-packages/Python38/site-packages/matplotlib/axes/_axes.py?line=663'>664</a>\u001b[0m \u001b[39m@docstring\u001b[39m\u001b[39m.\u001b[39mdedent_interpd\n\u001b[0;32m    <a href='file:///c%3A/Users/lizat/AppData/Local/Packages/PythonSoftwareFoundation.Python.3.8_qbz5n2kfra8p0/LocalCache/local-packages/Python38/site-packages/matplotlib/axes/_axes.py?line=664'>665</a>\u001b[0m \u001b[39mdef\u001b[39;00m \u001b[39mannotate\u001b[39m(\u001b[39mself\u001b[39m, text, xy, \u001b[39m*\u001b[39margs, \u001b[39m*\u001b[39m\u001b[39m*\u001b[39mkwargs):\n\u001b[1;32m--> <a href='file:///c%3A/Users/lizat/AppData/Local/Packages/PythonSoftwareFoundation.Python.3.8_qbz5n2kfra8p0/LocalCache/local-packages/Python38/site-packages/matplotlib/axes/_axes.py?line=665'>666</a>\u001b[0m     a \u001b[39m=\u001b[39m mtext\u001b[39m.\u001b[39;49mAnnotation(text, xy, \u001b[39m*\u001b[39;49margs, \u001b[39m*\u001b[39;49m\u001b[39m*\u001b[39;49mkwargs)\n\u001b[0;32m    <a href='file:///c%3A/Users/lizat/AppData/Local/Packages/PythonSoftwareFoundation.Python.3.8_qbz5n2kfra8p0/LocalCache/local-packages/Python38/site-packages/matplotlib/axes/_axes.py?line=666'>667</a>\u001b[0m     a\u001b[39m.\u001b[39mset_transform(mtransforms\u001b[39m.\u001b[39mIdentityTransform())\n\u001b[0;32m    <a href='file:///c%3A/Users/lizat/AppData/Local/Packages/PythonSoftwareFoundation.Python.3.8_qbz5n2kfra8p0/LocalCache/local-packages/Python38/site-packages/matplotlib/axes/_axes.py?line=667'>668</a>\u001b[0m     \u001b[39mif\u001b[39;00m \u001b[39m'\u001b[39m\u001b[39mclip_on\u001b[39m\u001b[39m'\u001b[39m \u001b[39min\u001b[39;00m kwargs:\n",
      "File \u001b[1;32m~\\AppData\\Local\\Packages\\PythonSoftwareFoundation.Python.3.8_qbz5n2kfra8p0\\LocalCache\\local-packages\\Python38\\site-packages\\matplotlib\\text.py:1808\u001b[0m, in \u001b[0;36mAnnotation.__init__\u001b[1;34m(self, text, xy, xytext, xycoords, textcoords, arrowprops, annotation_clip, **kwargs)\u001b[0m\n\u001b[0;32m   <a href='file:///c%3A/Users/lizat/AppData/Local/Packages/PythonSoftwareFoundation.Python.3.8_qbz5n2kfra8p0/LocalCache/local-packages/Python38/site-packages/matplotlib/text.py?line=1805'>1806</a>\u001b[0m \u001b[39mif\u001b[39;00m xytext \u001b[39mis\u001b[39;00m \u001b[39mNone\u001b[39;00m:\n\u001b[0;32m   <a href='file:///c%3A/Users/lizat/AppData/Local/Packages/PythonSoftwareFoundation.Python.3.8_qbz5n2kfra8p0/LocalCache/local-packages/Python38/site-packages/matplotlib/text.py?line=1806'>1807</a>\u001b[0m     xytext \u001b[39m=\u001b[39m \u001b[39mself\u001b[39m\u001b[39m.\u001b[39mxy\n\u001b[1;32m-> <a href='file:///c%3A/Users/lizat/AppData/Local/Packages/PythonSoftwareFoundation.Python.3.8_qbz5n2kfra8p0/LocalCache/local-packages/Python38/site-packages/matplotlib/text.py?line=1807'>1808</a>\u001b[0m x, y \u001b[39m=\u001b[39m xytext\n\u001b[0;32m   <a href='file:///c%3A/Users/lizat/AppData/Local/Packages/PythonSoftwareFoundation.Python.3.8_qbz5n2kfra8p0/LocalCache/local-packages/Python38/site-packages/matplotlib/text.py?line=1809'>1810</a>\u001b[0m \u001b[39mself\u001b[39m\u001b[39m.\u001b[39marrowprops \u001b[39m=\u001b[39m arrowprops\n\u001b[0;32m   <a href='file:///c%3A/Users/lizat/AppData/Local/Packages/PythonSoftwareFoundation.Python.3.8_qbz5n2kfra8p0/LocalCache/local-packages/Python38/site-packages/matplotlib/text.py?line=1810'>1811</a>\u001b[0m \u001b[39mif\u001b[39;00m arrowprops \u001b[39mis\u001b[39;00m \u001b[39mnot\u001b[39;00m \u001b[39mNone\u001b[39;00m:\n",
      "\u001b[1;31mValueError\u001b[0m: not enough values to unpack (expected 2, got 1)"
     ]
    },
    {
     "data": {
      "image/png": "[encoded data removed]",
      "text/plain": [
       "<Figure size 720x432 with 6 Axes>"
      ]
     },
     "metadata": {
      "needs_background": "light"
     },
     "output_type": "display_data"
    }
   ],
   "source": [
    "fig = plt.figure() # create figure\n",
    "\n",
    "ax0 = fig.add_subplot(2, 3, 1) # add subplot 1 (1 row, 2 columns, first plot)\n",
    "ax1 = fig.add_subplot(2, 3, 2) # add subplot 2 (1 row, 2 columns, second plot). See tip below**\n",
    "ax2 = fig.add_subplot(2, 3, 3)\n",
    "ax3 = fig.add_subplot(2, 3, 4)\n",
    "ax4 = fig.add_subplot(2, 3, 5)\n",
    "ax5 = fig.add_subplot(2, 3, 6)\n",
    "\n",
    "       \n",
    "# Subplot 1: Barh plot\n",
    "for index, value in enumerate(ytd_sales.index):\n",
    "    label = ytd_sales['ytd_sales'][value] \n",
    "ytd_sales.plot(kind='barh', color='white', figsize=(10, 6), ax=ax0) # add to subplot 1\n",
    "ax0.set_title('YTD Sales')\n",
    "for k, v in ytd_sales.iterrows():\n",
    "   ax0.annotate(k, v)\n",
    "\n",
    "# Subplot 2: Barh plot\n",
    "txn_merch.plot(kind='barh', color='white', figsize=(10, 6), ax=ax1) # add to subplot 2\n",
    "ax1.set_title('Transacting Merchants')\n",
    "\n",
    "# Subplot 3: Pie Chart\n",
    "colors_list = ['gold', 'lightcoral', 'lightskyblue']\n",
    "explode_list = [0, 0.2, 0.1] # ratio for each continent with which to offset each wedge.\n",
    "ytd_category['SalesAmount'].plot(kind='pie',\n",
    "                            figsize=(15, 6),\n",
    "                            autopct='%1.0f%%', \n",
    "                            startangle=90,    \n",
    "                            shadow=True,       \n",
    "                            labels=None,         # turn off labels on pie chart\n",
    "                            pctdistance=1.12,    # the ratio between the center of each pie slice and the start of the text generated by autopct \n",
    "                            colors=colors_list,  # add custom colors\n",
    "                            explode=explode_list,\n",
    "                            ax=ax2 # 'explode' lowest 3 continents\n",
    "                            ) # add to subplot 3\n",
    "ax2.set_title('YTD Sales by Currency')\n",
    "ax2.axis('equal') \n",
    "ax2.legend(labels=ytd_category.index, loc='upper left') \n",
    "\n",
    "# Subplot 4: Barh plot\n",
    "ytd_curr.plot(kind='barh', color='blue', figsize=(15, 6), ax=ax3) # add to subplot 2\n",
    "ax3.set_title('YTD Sales by Currency')\n",
    "ax3.set_ylabel('Currency')\n",
    "ax3.set_xlabel('YTD Sales')\n",
    "\n",
    "# Subplot 5: Line plot\n",
    "yr_trend.plot(kind='line', figsize=(15, 6), ax=ax4) # add to subplot 2\n",
    "ax4.set_title ('Yearly Sales Trend')\n",
    "ax4.set_ylabel('Sales')\n",
    "ax4.set_xlabel('Years')\n",
    "\n",
    "# Subplot 6: Line plot\n",
    "mth_trend.plot(kind='line', figsize=(15, 6), ax=ax5) # add to subplot 2\n",
    "ax5.set_title ('Monthly YTD Sales Trend')\n",
    "ax5.set_ylabel('Sales')\n",
    "ax5.set_xlabel('Month')\n",
    "\n",
    "plt.show()"
   ]
  },
  {
   "cell_type": "code",
   "execution_count": null,
   "metadata": {},
   "outputs": [],
   "source": []
  }
 ],
 "metadata": {
  "interpreter": {
   "hash": "62d64d3d20f35096fd4097d7d172635944091f3bfa583a57f96cd1b541ad8e5b"
  },
  "kernelspec": {
   "display_name": "Python 3.8.10 64-bit (windows store)",
   "language": "python",
   "name": "python3"
  },
  "language_info": {
   "codemirror_mode": {
    "name": "ipython",
    "version": 3
   },
   "file_extension": ".py",
   "mimetype": "text/x-python",
   "name": "python",
   "nbconvert_exporter": "python",
   "pygments_lexer": "ipython3",
   "version": "3.8.10"
  },
  "orig_nbformat": 4
 },
 "nbformat": 4,
 "nbformat_minor": 2
}
